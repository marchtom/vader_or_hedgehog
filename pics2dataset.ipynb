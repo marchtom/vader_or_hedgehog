{
 "cells": [
  {
   "cell_type": "code",
   "execution_count": 1,
   "metadata": {},
   "outputs": [
    {
     "name": "stderr",
     "output_type": "stream",
     "text": [
      "/home/tomek/anaconda3/lib/python2.7/site-packages/matplotlib/font_manager.py:273: UserWarning: Matplotlib is building the font cache using fc-list. This may take a moment.\n",
      "  warnings.warn('Matplotlib is building the font cache using fc-list. This may take a moment.')\n"
     ]
    }
   ],
   "source": [
    "import numpy as np\n",
    "from tqdm import tqdm\n",
    "import cv2\n",
    "import os\n",
    "from random import shuffle\n",
    "import matplotlib.pyplot as plt"
   ]
  },
  {
   "cell_type": "markdown",
   "metadata": {},
   "source": [
    "Single image load & resize"
   ]
  },
  {
   "cell_type": "code",
   "execution_count": 2,
   "metadata": {},
   "outputs": [],
   "source": [
    "# pal: -1 (RGBA); 0 (grayscale); 1 (RGB)\n",
    "def loadAndResize(imgPath, size=64, pal=1, fill=True):\n",
    "    img = cv2.imread(imgPath, pal)\n",
    "    if img is None:\n",
    "        raise FileNotFoundError('File >{}< not found.'.format(imgPath))\n",
    "    if fill:\n",
    "        shape = np.shape(img)\n",
    "        if shape[0] > shape[1]:\n",
    "            bSize = int((shape[0] - shape[1])/2)\n",
    "            img = cv2.copyMakeBorder(img,0,0,bSize,bSize,cv2.BORDER_CONSTANT,value=[0,0,0])\n",
    "        else:\n",
    "            bSize = int((shape[1] - shape[0])/2)\n",
    "            img = cv2.copyMakeBorder(img,bSize,bSize,0,0,cv2.BORDER_CONSTANT,value=[0,0,0])\n",
    "    if pal != 0:\n",
    "        return cv2.cvtColor(cv2.resize(img, (size, size)), cv2.COLOR_BGR2RGB)\n",
    "    else: \n",
    "        return cv2.resize(img, (size, size))"
   ]
  },
  {
   "cell_type": "markdown",
   "metadata": {},
   "source": [
    "Create dataset"
   ]
  },
  {
   "cell_type": "code",
   "execution_count": 3,
   "metadata": {},
   "outputs": [],
   "source": [
    "dvPath = 'dv/'\n",
    "hhPath = 'hedgehog/'"
   ]
  },
  {
   "cell_type": "code",
   "execution_count": 4,
   "metadata": {},
   "outputs": [
    {
     "name": "stderr",
     "output_type": "stream",
     "text": [
      "100%|██████████| 56/56 [00:00<00:00, 114.39it/s]\n",
      "100%|██████████| 56/56 [00:00<00:00, 867.73it/s]\n"
     ]
    }
   ],
   "source": [
    "# 'onehot'\n",
    "dv = [1, 0]\n",
    "hh = [0, 1]\n",
    "\n",
    "dataArray = []\n",
    "\n",
    "# load DV\n",
    "fileList = os.listdir(dvPath)\n",
    "for f in tqdm(fileList):\n",
    "    label = dv\n",
    "    imgPath = dvPath+f\n",
    "    img = loadAndResize(imgPath, size=227, pal=1, fill=True)\n",
    "    dataArray.append([label, img])    \n",
    "\n",
    "# load KM\n",
    "fileList = os.listdir(hhPath)\n",
    "for f in tqdm(fileList):\n",
    "    label = hh\n",
    "    imgPath = hhPath+f\n",
    "    img = loadAndResize(imgPath, size=227, pal=1, fill=True)\n",
    "    dataArray.append([label, img])        "
   ]
  },
  {
   "cell_type": "code",
   "execution_count": 5,
   "metadata": {},
   "outputs": [
    {
     "data": {
      "text/plain": [
       "(112, 2)"
      ]
     },
     "execution_count": 5,
     "metadata": {},
     "output_type": "execute_result"
    }
   ],
   "source": [
    "np.shape(dataArray)"
   ]
  },
  {
   "cell_type": "code",
   "execution_count": 6,
   "metadata": {},
   "outputs": [],
   "source": [
    "# saving data array\n",
    "np.save('227x227_rgb_dv_hh.npy', dataArray)"
   ]
  },
  {
   "cell_type": "code",
   "execution_count": null,
   "metadata": {},
   "outputs": [],
   "source": []
  }
 ],
 "metadata": {
  "kernelspec": {
   "display_name": "Python 2",
   "language": "python",
   "name": "python2"
  },
  "language_info": {
   "codemirror_mode": {
    "name": "ipython",
    "version": 2
   },
   "file_extension": ".py",
   "mimetype": "text/x-python",
   "name": "python",
   "nbconvert_exporter": "python",
   "pygments_lexer": "ipython2",
   "version": "2.7.14"
  }
 },
 "nbformat": 4,
 "nbformat_minor": 2
}
